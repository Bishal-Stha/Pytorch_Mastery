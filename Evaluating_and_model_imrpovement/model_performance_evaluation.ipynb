{
 "cells": [
  {
   "cell_type": "markdown",
   "id": "1858e58c",
   "metadata": {},
   "source": [
    "### Evaluating Model Performance\n",
    "- A dataset is typically split into three subsets:\n",
    "1. **training**: 80-90%\n",
    "2. **validation**: 10-20%\n",
    "3. **test**: 5-10%\n",
    "\n",
    "- Track loss and accuracy during training and validation"
   ]
  },
  {
   "cell_type": "code",
   "execution_count": 2,
   "id": "fc5405b5",
   "metadata": {},
   "outputs": [],
   "source": [
    "import torch\n",
    "import torch.nn as nn\n",
    "from torch.nn import CrossEntropyLoss\n"
   ]
  },
  {
   "cell_type": "markdown",
   "id": "790672a0",
   "metadata": {},
   "source": [
    "Let’s train!  \n",
    "For an epoch in a range  \n",
    "Call `model.train()`  \n",
    "Do the forward pass  \n",
    "Calculate the loss  \n",
    "Optimizer zero grad  \n",
    "Lossssss backward  \n",
    "Optimizer step step step  \n",
    "\n",
    "Test time!  \n",
    "Call `model.eval()`  \n",
    "With `torch.inference_mode()`  \n",
    "Do the forward pass  \n",
    "Calculate the loss  \n",
    "\n",
    "Print out what’s happenin’  \n",
    "\n",
    "Let’s do it again ’gain ’gain  \n",
    "\n",
    "...\n",
    "\n",
    "(Repeat for each epoch)\n",
    "\n",
    "Keep going if you want  \n",
    "But don’t forget to save save save  \n"
   ]
  },
  {
   "cell_type": "code",
   "execution_count": null,
   "id": "3c4a1830",
   "metadata": {},
   "outputs": [],
   "source": [
    "#######3"
   ]
  },
  {
   "cell_type": "code",
   "execution_count": null,
   "id": "07bea8c1",
   "metadata": {},
   "outputs": [
    {
     "ename": "SyntaxError",
     "evalue": "invalid syntax (4151841100.py, line 2)",
     "output_type": "error",
     "traceback": [
      "\u001b[1;36m  Cell \u001b[1;32mIn[5], line 2\u001b[1;36m\u001b[0m\n\u001b[1;33m    model.eval():\u001b[0m\n\u001b[1;37m                ^\u001b[0m\n\u001b[1;31mSyntaxError\u001b[0m\u001b[1;31m:\u001b[0m invalid syntax\n"
     ]
    }
   ],
   "source": [
    "validation_loss = 0.0\n",
    "model.eval()\n",
    "#   Put model in evaluation mode\n",
    "  with torch.no_grad():\n",
    "    #   Disable gradientsfor efficiency\n",
    "      for inputs, labels in validationloader:\n",
    "        #  Run the forward pass\n",
    "        outputs = model(inputs)\n",
    "        # Calculate the loss\n",
    "        loss = criterion(outputs, labels)\n",
    "        validation_loss += loss.item()epoch_loss = validation_loss / len(validationloader)\n",
    "        # # Compute mean lossmodel.train()  Switch back to training mode\n"
   ]
  },
  {
   "cell_type": "code",
   "execution_count": null,
   "id": "f00f1d9d",
   "metadata": {},
   "outputs": [],
   "source": [
    "import torchmetrics\n",
    "# Create accuracy metric\n",
    "metric = torchmetrics.Accuracy(task=\"multiclass\",num_classes=3)\n",
    "for features, labels in dataloader:\n",
    "    outputs= model(features)\n",
    "    # Forward pass\n",
    "    # Compute batch accuracy(keeping argmax for one-hot labels)\n",
    "    metric.update(outputs, labels.argmax(dim=-1))\n",
    "    # Compute accuracy over the whole epoch \n",
    "    accuracy = metric.compute()\n",
    "    # Reset metric for thenext epoch\n",
    "    metric.reset()\n"
   ]
  },
  {
   "cell_type": "markdown",
   "id": "8f1454f7",
   "metadata": {},
   "source": []
  }
 ],
 "metadata": {
  "kernelspec": {
   "display_name": "Python 3",
   "language": "python",
   "name": "python3"
  },
  "language_info": {
   "codemirror_mode": {
    "name": "ipython",
    "version": 3
   },
   "file_extension": ".py",
   "mimetype": "text/x-python",
   "name": "python",
   "nbconvert_exporter": "python",
   "pygments_lexer": "ipython3",
   "version": "3.10.11"
  }
 },
 "nbformat": 4,
 "nbformat_minor": 5
}
