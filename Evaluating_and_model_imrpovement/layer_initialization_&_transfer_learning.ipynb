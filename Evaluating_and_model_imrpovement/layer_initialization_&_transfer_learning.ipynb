{
 "cells": [
  {
   "cell_type": "markdown",
   "id": "b682d654",
   "metadata": {},
   "source": [
    "- **Layer Initialization**: the process of setting the initial values for the weights and biases of a neural network's layers before training begins.\n",
    "\n",
    "\n",
    "- **Transfer Learning**: Transfer learning is a machine learning technique where a model trained on one task is repurposed as the foundation for a second task."
   ]
  },
  {
   "cell_type": "code",
   "execution_count": 3,
   "id": "2ec3ddf9",
   "metadata": {},
   "outputs": [
    {
     "name": "stdout",
     "output_type": "stream",
     "text": [
      "tensor(7.1526e-07, grad_fn=<MinBackward1>) tensor(0.9999, grad_fn=<MaxBackward1>)\n"
     ]
    }
   ],
   "source": [
    "import torch\n",
    "import torch.nn as nn\n",
    "layer = nn.Linear(64,128)\n",
    "nn.init.uniform_(layer.weight)\n",
    "\n",
    "print(layer.weight.min(),layer.weight.max())"
   ]
  },
  {
   "cell_type": "code",
   "execution_count": 4,
   "id": "bad293fb",
   "metadata": {},
   "outputs": [
    {
     "name": "stderr",
     "output_type": "stream",
     "text": [
      "C:\\Users\\bisha\\AppData\\Local\\Temp\\ipykernel_1276\\1631795162.py:4: FutureWarning: You are using `torch.load` with `weights_only=False` (the current default value), which uses the default pickle module implicitly. It is possible to construct malicious pickle data which will execute arbitrary code during unpickling (See https://github.com/pytorch/pytorch/blob/main/SECURITY.md#untrusted-models for more details). In a future release, the default value for `weights_only` will be flipped to `True`. This limits the functions that could be executed during unpickling. Arbitrary objects will no longer be allowed to be loaded via this mode unless they are explicitly allowlisted by the user via `torch.serialization.add_safe_globals`. We recommend you start setting `weights_only=True` for any use case where you don't have full control of the loaded file. Please open an issue on GitHub for any issues related to this experimental feature.\n",
      "  new_layer = torch.load('layer.pth')\n"
     ]
    }
   ],
   "source": [
    "# Saving and loading weights\n",
    "torch.save(layer,'layer.pth')\n",
    "\n",
    "new_layer = torch.load('layer.pth')\n"
   ]
  },
  {
   "cell_type": "markdown",
   "id": "ffc500a2",
   "metadata": {},
   "source": [
    "**Fine Tuning**: A type of transfer learning\n",
    "\n",
    "- smaller learning rate\n",
    "- training part of the network (we freeze some of them)\n",
    "- Rule of thumb: *freeze early layers of networks and fine-tune layers closer to output layer.*"
   ]
  },
  {
   "cell_type": "code",
   "execution_count": null,
   "id": "e069e66d",
   "metadata": {},
   "outputs": [],
   "source": [
    "model = nn.Sequential(\n",
    "    nn.Linear(64,128),\n",
    "    nn.Linear(128,256)\n",
    ")\n",
    "\n",
    "for name, param in model.named_parameters():\n",
    "    if name == '0.weight':\n",
    "        param.requires_grad = False"
   ]
  }
 ],
 "metadata": {
  "kernelspec": {
   "display_name": "Python 3",
   "language": "python",
   "name": "python3"
  },
  "language_info": {
   "codemirror_mode": {
    "name": "ipython",
    "version": 3
   },
   "file_extension": ".py",
   "mimetype": "text/x-python",
   "name": "python",
   "nbconvert_exporter": "python",
   "pygments_lexer": "ipython3",
   "version": "3.10.11"
  }
 },
 "nbformat": 4,
 "nbformat_minor": 5
}
