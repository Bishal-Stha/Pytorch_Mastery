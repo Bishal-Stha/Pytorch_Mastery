{
 "cells": [
  {
   "cell_type": "markdown",
   "id": "2feaa56f",
   "metadata": {},
   "source": [
    "Sequential data: \n",
    "- ordered in time or space\n",
    "- order of the data points contains dependencies between them\n",
    "- Examples of sequential data:\n",
    "1. Time series\n",
    "2. Text\n",
    "3. Audio waves"
   ]
  },
  {
   "cell_type": "markdown",
   "id": "56445f90",
   "metadata": {},
   "source": [
    "Train-test-split\n",
    "- No random splitting for time series\n",
    "- Look-ahead bias: model has info about the future\n",
    "\n",
    "Solution: split by time"
   ]
  },
  {
   "cell_type": "markdown",
   "id": "1213943b",
   "metadata": {},
   "source": [
    "**Creating sequences**\n",
    "\n",
    "- Sequence lenght = number of data points in one training example\n",
    "- 24*4 = 96 -> consider last 24 hours\n",
    "- Predict single next data points"
   ]
  },
  {
   "cell_type": "code",
   "execution_count": 59,
   "id": "90e0cb03",
   "metadata": {},
   "outputs": [],
   "source": [
    "# Creating sequences in python\n",
    "\n",
    "import numpy as np\n",
    "import torch\n",
    "from torch.utils.data import TensorDataset\n",
    "\n",
    "def create_sequences(df, seq_length):\n",
    "    xs, ys = [], []\n",
    "    for i in range(len(df) - seq_length):\n",
    "        x = df.iloc[i:(i + seq_length), 1]  # column index 1 = 'value'\n",
    "        y = df.iloc[i + seq_length, 1]\n",
    "        xs.append(x.values)\n",
    "        ys.append(y)\n",
    "    return np.array(xs), np.array(ys)\n"
   ]
  },
  {
   "cell_type": "code",
   "execution_count": 49,
   "id": "c04263b2",
   "metadata": {},
   "outputs": [
    {
     "data": {
      "text/plain": [
       "500"
      ]
     },
     "execution_count": 49,
     "metadata": {},
     "output_type": "execute_result"
    }
   ],
   "source": [
    "df.drop_duplicates(inplace=True)\n",
    "df.dropna(inplace=True)\n",
    "df.value_counts().sum()"
   ]
  },
  {
   "cell_type": "code",
   "execution_count": 50,
   "id": "f8c9d8b4",
   "metadata": {},
   "outputs": [
    {
     "data": {
      "text/html": [
       "<div>\n",
       "<style scoped>\n",
       "    .dataframe tbody tr th:only-of-type {\n",
       "        vertical-align: middle;\n",
       "    }\n",
       "\n",
       "    .dataframe tbody tr th {\n",
       "        vertical-align: top;\n",
       "    }\n",
       "\n",
       "    .dataframe thead th {\n",
       "        text-align: right;\n",
       "    }\n",
       "</style>\n",
       "<table border=\"1\" class=\"dataframe\">\n",
       "  <thead>\n",
       "    <tr style=\"text-align: right;\">\n",
       "      <th></th>\n",
       "      <th>time</th>\n",
       "      <th>value</th>\n",
       "    </tr>\n",
       "  </thead>\n",
       "  <tbody>\n",
       "    <tr>\n",
       "      <th>0</th>\n",
       "      <td>0</td>\n",
       "      <td>0.248357</td>\n",
       "    </tr>\n",
       "    <tr>\n",
       "      <th>1</th>\n",
       "      <td>1</td>\n",
       "      <td>-0.019153</td>\n",
       "    </tr>\n",
       "    <tr>\n",
       "      <th>2</th>\n",
       "      <td>2</td>\n",
       "      <td>0.423678</td>\n",
       "    </tr>\n",
       "    <tr>\n",
       "      <th>3</th>\n",
       "      <td>3</td>\n",
       "      <td>0.910953</td>\n",
       "    </tr>\n",
       "    <tr>\n",
       "      <th>4</th>\n",
       "      <td>4</td>\n",
       "      <td>0.081593</td>\n",
       "    </tr>\n",
       "  </tbody>\n",
       "</table>\n",
       "</div>"
      ],
      "text/plain": [
       "   time     value\n",
       "0     0  0.248357\n",
       "1     1 -0.019153\n",
       "2     2  0.423678\n",
       "3     3  0.910953\n",
       "4     4  0.081593"
      ]
     },
     "execution_count": 50,
     "metadata": {},
     "output_type": "execute_result"
    }
   ],
   "source": [
    "import pandas as pd\n",
    "df = pd.read_csv(\"./../../synthetic_time_series.csv\")\n",
    "df.head()"
   ]
  },
  {
   "cell_type": "code",
   "execution_count": 51,
   "id": "30513ce1",
   "metadata": {},
   "outputs": [
    {
     "data": {
      "text/plain": [
       "350"
      ]
     },
     "execution_count": 51,
     "metadata": {},
     "output_type": "execute_result"
    }
   ],
   "source": [
    "seq_length = 10\n",
    "N = len(df)  # total number of time steps\n",
    "SPLIT = round(0.7 * N)\n",
    "SPLIT"
   ]
  },
  {
   "cell_type": "code",
   "execution_count": 56,
   "id": "51f2bd47",
   "metadata": {},
   "outputs": [
    {
     "data": {
      "text/plain": [
       "(   time     value\n",
       " 0     0  0.248357\n",
       " 1     1 -0.019153\n",
       " 2     2  0.423678\n",
       " 3     3  0.910953\n",
       " 4     4  0.081593,\n",
       "      time     value\n",
       " 350   350 -0.820172\n",
       " 351   351 -0.225761\n",
       " 352   352 -0.520015\n",
       " 353   353 -1.011847\n",
       " 354   354 -0.922091)"
      ]
     },
     "execution_count": 56,
     "metadata": {},
     "output_type": "execute_result"
    }
   ],
   "source": [
    "train_data, test_data = df[:SPLIT], df[SPLIT:]\n",
    "train_data.head(), test_data.head()"
   ]
  },
  {
   "cell_type": "code",
   "execution_count": 57,
   "id": "957fccfa",
   "metadata": {},
   "outputs": [
    {
     "name": "stdout",
     "output_type": "stream",
     "text": [
      "(340, 10) (340,)\n"
     ]
    }
   ],
   "source": [
    "# Creating training examples\n",
    "\n",
    "X_train, y_train = create_sequences(train_data, seq_length)\n",
    "print(X_train.shape, y_train.shape)"
   ]
  },
  {
   "cell_type": "code",
   "execution_count": 60,
   "id": "36300095",
   "metadata": {},
   "outputs": [
    {
     "data": {
      "text/plain": [
       "<torch.utils.data.dataset.TensorDataset at 0x1d599bf2530>"
      ]
     },
     "execution_count": 60,
     "metadata": {},
     "output_type": "execute_result"
    }
   ],
   "source": [
    "# TensorDataset\n",
    "dataset_train = TensorDataset(\n",
    "    torch.from_numpy(X_train).float(),\n",
    "    torch.from_numpy(y_train).float(),\n",
    ")\n",
    "\n",
    "dataset_train"
   ]
  }
 ],
 "metadata": {
  "kernelspec": {
   "display_name": "Python 3",
   "language": "python",
   "name": "python3"
  },
  "language_info": {
   "codemirror_mode": {
    "name": "ipython",
    "version": 3
   },
   "file_extension": ".py",
   "mimetype": "text/x-python",
   "name": "python",
   "nbconvert_exporter": "python",
   "pygments_lexer": "ipython3",
   "version": "3.10.11"
  }
 },
 "nbformat": 4,
 "nbformat_minor": 5
}
