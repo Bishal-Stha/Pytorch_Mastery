{
 "cells": [
  {
   "cell_type": "markdown",
   "id": "b1f49b56",
   "metadata": {},
   "source": [
    "**Vanishing Gradient**\n",
    "- Gradients gets smaller and smaller during backward pass\n",
    "- Earlier layers gets small parameter updates\n",
    "- Model doesn't learn\n",
    "\n",
    "**Exploding Gradient**\n",
    "- Gradients get bigger and bigger\n",
    "- Parameter updates are too large\n",
    "- Training diverges\n",
    "\n",
    "**Solution to unstable gradients**\n",
    "- Proper weights initialization\n",
    "- Good activations\n",
    "- Batch normalization\n"
   ]
  },
  {
   "cell_type": "code",
   "execution_count": 2,
   "id": "84094372",
   "metadata": {},
   "outputs": [],
   "source": [
    "import torch\n",
    "import torch.nn as nn\n",
    "import torch.nn.init as init"
   ]
  },
  {
   "cell_type": "code",
   "execution_count": 3,
   "id": "b3e7c177",
   "metadata": {},
   "outputs": [
    {
     "name": "stdout",
     "output_type": "stream",
     "text": [
      "Parameter containing:\n",
      "tensor([[ 0.0680,  0.0569, -0.3379, -0.2509, -0.0758, -0.0468, -0.1363, -0.1181]],\n",
      "       requires_grad=True)\n"
     ]
    }
   ],
   "source": [
    "layer = nn.Linear(8,1)\n",
    "print(layer.weight)"
   ]
  },
  {
   "cell_type": "code",
   "execution_count": 4,
   "id": "39fdea48",
   "metadata": {},
   "outputs": [
    {
     "name": "stdout",
     "output_type": "stream",
     "text": [
      "Parameter containing:\n",
      "tensor([[ 0.7066, -0.1769, -0.0929,  0.8220, -0.2240,  0.4938,  0.5241, -0.5136]],\n",
      "       requires_grad=True)\n"
     ]
    }
   ],
   "source": [
    "# Weight initialization\n",
    "# to achieve good initialization we can use He/Kaiming initialization for ReLU\n",
    "init.kaiming_uniform_(layer.weight)\n",
    "print(layer.weight)"
   ]
  },
  {
   "cell_type": "code",
   "execution_count": 5,
   "id": "8b6c1456",
   "metadata": {},
   "outputs": [],
   "source": [
    "class Net(nn.Module):\n",
    "    def __init__(self):\n",
    "        super().__init__()\n",
    "        self.fc1 = nn.Linear(9,16)\n",
    "        self.fc2 = nn.Linear(16,8)\n",
    "        self.fc3 = nn.Linear(8,1)\n",
    "\n",
    "        init.kaiming_uniform_(self.fc1.weight)\n",
    "        init.kaiming_uniform_(self.fc2.weight)\n",
    "        init.kaiming_uniform_(\n",
    "            self.fc3.weight,\n",
    "            nonlinearity=\"sigmoid\",\n",
    "        )\n"
   ]
  },
  {
   "cell_type": "code",
   "execution_count": 7,
   "id": "bff62af5",
   "metadata": {},
   "outputs": [
    {
     "data": {
      "text/plain": [
       "'\\nReLU: zero for negative inputs - suffers from dying neuron problem. \\n\\nELU: Non-zero gradients for negative values - helps against dying neurons\\nAverage output around zero - helps against vanishing gradients\\n'"
      ]
     },
     "execution_count": 7,
     "metadata": {},
     "output_type": "execute_result"
    }
   ],
   "source": [
    "# Activation functions\n",
    "\"\"\"\n",
    "ReLU: zero for negative inputs - suffers from dying neuron problem. \n",
    "\n",
    "ELU: Non-zero gradients for negative values - helps against dying neurons\n",
    "Average output around zero - helps against vanishing gradients\n",
    "\"\"\"\n",
    "\n",
    "# nn.functional.relu()\n",
    "# nn.functional.elu()"
   ]
  },
  {
   "cell_type": "code",
   "execution_count": null,
   "id": "13b9fb67",
   "metadata": {},
   "outputs": [],
   "source": [
    "\"\"\"\n",
    "Batch normalization:\n",
    "After a layer\n",
    "1. Normalize the layer's outputs by:\n",
    "    a) Subtracting the mean\n",
    "    b) Dividing by the standard deviation\n",
    "2. Scale and shift normalized outputs using learned parameters\n",
    "    a) Faster loss decrease\n",
    "    b) Helps against unstable gradients\n",
    "\n",
    "\"\"\"\n",
    "class Net2(nn.Module):\n",
    "    def __init__(self):\n",
    "        super().__init__()\n",
    "        self.fc1 = nn.Linear(9,16)\n",
    "        self.bn1 = nn.BatchNorm1d(16)\n",
    "\n",
    "    def forward(self,x):\n",
    "        x = self.fc1(x)\n",
    "        x = self.bc1(x)\n",
    "        x = nn.functional.elu(x)"
   ]
  }
 ],
 "metadata": {
  "kernelspec": {
   "display_name": "Python 3",
   "language": "python",
   "name": "python3"
  },
  "language_info": {
   "codemirror_mode": {
    "name": "ipython",
    "version": 3
   },
   "file_extension": ".py",
   "mimetype": "text/x-python",
   "name": "python",
   "nbconvert_exporter": "python",
   "pygments_lexer": "ipython3",
   "version": "3.10.11"
  }
 },
 "nbformat": 4,
 "nbformat_minor": 5
}
