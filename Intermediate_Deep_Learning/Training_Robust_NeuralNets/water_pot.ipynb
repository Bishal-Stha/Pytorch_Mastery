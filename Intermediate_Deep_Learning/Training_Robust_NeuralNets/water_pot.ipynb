{
 "cells": [
  {
   "cell_type": "code",
   "execution_count": 28,
   "id": "4fb9320e",
   "metadata": {},
   "outputs": [],
   "source": [
    "import torch\n",
    "from torch.utils.data import Dataset\n",
    "from torch.utils.data import DataLoader\n",
    "import torch.nn as nn\n",
    "import pandas as pd\n",
    "\n",
    "import torch.optim as optim\n",
    "from torchmetrics import Accuracy"
   ]
  },
  {
   "cell_type": "code",
   "execution_count": 18,
   "id": "06c2966e",
   "metadata": {},
   "outputs": [],
   "source": [
    "# device = \"cuda\" if torch.cuda.is_available() else \"cpu\"\n",
    "device = \"cpu\""
   ]
  },
  {
   "cell_type": "code",
   "execution_count": 19,
   "id": "aceb1413",
   "metadata": {},
   "outputs": [],
   "source": [
    "class WaterDataset(Dataset):\n",
    "    def __init__(self, csv_path):\n",
    "        super().__init__()\n",
    "        df = pd.read_csv(csv_path)\n",
    "        self.data = df.to_numpy()\n",
    "    \n",
    "    def __len__(self):\n",
    "        return self.data.shape[0]\n",
    "    \n",
    "    def __getitem__(self, index):\n",
    "        features = torch.tensor(self.data[index,:-1], dtype=torch.float32)\n",
    "        label = torch.tensor(self.data[index,-1], dtype=torch.float32)\n",
    "        return features, label"
   ]
  },
  {
   "cell_type": "code",
   "execution_count": 20,
   "id": "7b6ff439",
   "metadata": {},
   "outputs": [
    {
     "data": {
      "text/plain": [
       "<torch.utils.data.dataloader.DataLoader at 0x1e9bc9de2c0>"
      ]
     },
     "execution_count": 20,
     "metadata": {},
     "output_type": "execute_result"
    }
   ],
   "source": [
    "data_train = WaterDataset(\"water_potability.csv\")\n",
    "\n",
    "dataloader_train = DataLoader(data_train,\n",
    "                              batch_size=2,\n",
    "                              shuffle=True)\n",
    "\n",
    "dataloader_train"
   ]
  },
  {
   "cell_type": "code",
   "execution_count": 21,
   "id": "0d6cda48",
   "metadata": {},
   "outputs": [
    {
     "name": "stdout",
     "output_type": "stream",
     "text": [
      "Features:  tensor([[7.0173e+00, 1.7013e+02, 2.0169e+04, 5.2163e+00, 3.7823e+02, 5.1277e+02,\n",
      "         1.5506e+01, 6.4625e+01, 4.8996e+00],\n",
      "        [       nan, 2.4107e+02, 2.2657e+04, 7.2938e+00,        nan, 3.1560e+02,\n",
      "         1.6405e+01, 4.6139e+01, 3.7352e+00]])\n",
      "Labels:  tensor([1., 1.])\n"
     ]
    }
   ],
   "source": [
    "features, label = next(iter(dataloader_train))\n",
    "print(\"Features: \",features)\n",
    "print(\"Labels: \",label)"
   ]
  },
  {
   "cell_type": "markdown",
   "id": "ca8a1ea3",
   "metadata": {},
   "source": [
    "Replicating \n",
    "\n",
    " model = nn.Sequential(\n",
    "    \n",
    "nn.Linear(9,16),\n",
    "    \n",
    "nn.ReLU(),\n",
    "    \n",
    "nn.Linear(16,8),\n",
    "    \n",
    "nn.ReLU(),\n",
    "    \n",
    "nn.Linear(8,1),\n",
    "    \n",
    "nn.Sigmoid(),\n",
    ")\n",
    "\n",
    "in Class based model."
   ]
  },
  {
   "cell_type": "code",
   "execution_count": 22,
   "id": "2fdc5353",
   "metadata": {},
   "outputs": [],
   "source": [
    "class Net(nn.Module):\n",
    "    def __init__(self):\n",
    "        super().__init__()\n",
    "\n",
    "        self.fc1 = nn.Linear(9,16)\n",
    "        self.fc2 = nn.Linear(16,8)\n",
    "        self.fc3 = nn.Linear(8,1)\n",
    "        \n",
    "    def forward(self, x):\n",
    "        x = nn.functional.relu(self.fc1(x))\n",
    "        x = nn.functional.relu(self.fc2(x))\n",
    "        x = self.fc3(x)\n",
    "        return x"
   ]
  },
  {
   "cell_type": "code",
   "execution_count": 23,
   "id": "2a8129c1",
   "metadata": {},
   "outputs": [],
   "source": [
    "net = Net().to(device=device)\n",
    "# net.state_dict()"
   ]
  },
  {
   "cell_type": "markdown",
   "id": "a9baba25",
   "metadata": {},
   "source": [
    "### Training Loop"
   ]
  },
  {
   "cell_type": "code",
   "execution_count": 24,
   "id": "c6a3e531",
   "metadata": {},
   "outputs": [],
   "source": [
    "criterion = nn.BCEWithLogitsLoss()\n",
    "optimizer = optim.SGD(net.parameters(),lr=0.01)"
   ]
  },
  {
   "cell_type": "code",
   "execution_count": 25,
   "id": "bf18b630",
   "metadata": {},
   "outputs": [],
   "source": [
    "# Adaptive gradient\n",
    "adOptimizer = optim.Adagrad(params=net.parameters(), lr= 0.01)\n",
    "\n",
    "# Adaptive Moment Estimation (Adam)\n",
    "adam = optim.Adam(net.parameters(), lr=0.01)"
   ]
  },
  {
   "cell_type": "code",
   "execution_count": 26,
   "id": "9c3582cf",
   "metadata": {},
   "outputs": [],
   "source": [
    "epochs = 100\n",
    "\n",
    "for epoch in range(epochs):\n",
    "    for features, labels in dataloader_train:\n",
    "        features = features.to(device)\n",
    "        labels = labels.to(device)\n",
    "\n",
    "        optimizer.zero_grad() # clears gradients\n",
    "        outputs = net(features) # forward pass\n",
    "        loss = criterion(outputs,labels.view(-1,1)) # compute loss\n",
    "        loss.backward() # compute gradients\n",
    "        optimizer.step() # update parameters"
   ]
  },
  {
   "cell_type": "code",
   "execution_count": 31,
   "id": "9240e673",
   "metadata": {},
   "outputs": [
    {
     "name": "stdout",
     "output_type": "stream",
     "text": [
      "Accuracy: 0.610\n"
     ]
    }
   ],
   "source": [
    "acc = Accuracy(task=\"binary\")\n",
    "\n",
    "net.eval()\n",
    "with torch.no_grad():\n",
    "    for features, labels in dataloader_train:\n",
    "        outputs = net(features)\n",
    "        preds = (outputs >= 0.5).float()\n",
    "        acc(preds,labels.view(-1,1))\n",
    "\n",
    "accuracy = acc.compute()\n",
    "print(f\"Accuracy: {accuracy:.3f}\")"
   ]
  }
 ],
 "metadata": {
  "kernelspec": {
   "display_name": "Python 3",
   "language": "python",
   "name": "python3"
  },
  "language_info": {
   "codemirror_mode": {
    "name": "ipython",
    "version": 3
   },
   "file_extension": ".py",
   "mimetype": "text/x-python",
   "name": "python",
   "nbconvert_exporter": "python",
   "pygments_lexer": "ipython3",
   "version": "3.10.11"
  }
 },
 "nbformat": 4,
 "nbformat_minor": 5
}
