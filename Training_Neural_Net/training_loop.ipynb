{
 "cells": [
  {
   "cell_type": "markdown",
   "id": "cfd1283b",
   "metadata": {},
   "source": [
    "Training a Neural Network\n",
    "1. Create a model\n",
    "2. Choose a loss function\n",
    "3. Define a dataset\n",
    "4. Set an optimizer\n",
    "5. Run a training loop"
   ]
  },
  {
   "cell_type": "code",
   "execution_count": 14,
   "id": "a43f88a2",
   "metadata": {},
   "outputs": [],
   "source": [
    "import torch\n",
    "import numpy as np\n",
    "import pandas as pd\n",
    "import torch.nn as nn\n",
    "from torch.utils.data import TensorDataset\n",
    "from torch.utils.data import DataLoader\n",
    "import torch.optim as optim\n",
    "from torch.nn import MSELoss\n",
    "# There is no L2Loss in torch.nn, use MSELoss for L2 loss"
   ]
  },
  {
   "cell_type": "code",
   "execution_count": 15,
   "id": "16add23b",
   "metadata": {},
   "outputs": [],
   "source": [
    "# dataset\n",
    "df = pd.read_csv(\"./student_habits_performance.csv\")\n",
    "X,y = df[[\"study_hours_per_day\",\"social_media_hours\",\"netflix_hours\"]].to_numpy(), df[[\"exam_score\"]].to_numpy()"
   ]
  },
  {
   "cell_type": "code",
   "execution_count": 16,
   "id": "48505f24",
   "metadata": {},
   "outputs": [],
   "source": [
    "dataset = TensorDataset(torch.tensor(X).float(),torch.tensor(y).float())\n",
    "dataloader = DataLoader(dataset=dataset, batch_size=4, shuffle=True)"
   ]
  },
  {
   "cell_type": "code",
   "execution_count": 20,
   "id": "7bf9b1ad",
   "metadata": {},
   "outputs": [],
   "source": [
    "model = nn.Sequential(\n",
    "    nn.Linear(3,2),\n",
    "    nn.Linear(2,1)\n",
    ")"
   ]
  },
  {
   "cell_type": "code",
   "execution_count": 18,
   "id": "7a857d78",
   "metadata": {},
   "outputs": [],
   "source": [
    "# create loss function and optimizer\n",
    "criterion = MSELoss()\n",
    "optimizer = optim.SGD(model.parameters(),lr=0.001)"
   ]
  },
  {
   "cell_type": "code",
   "execution_count": 21,
   "id": "82706882",
   "metadata": {},
   "outputs": [],
   "source": [
    "# Training Loop\n",
    "\"\"\"\n",
    "Epoch: No of looped over complete Dataset.\n",
    "\"\"\"\n",
    "num_epochs = 3\n",
    "for epoch in range(num_epochs):\n",
    "    for data in dataloader:\n",
    "        # Set the optimizer to zero\n",
    "        optimizer.zero_grad()\n",
    "        # get x and from the data loader\n",
    "        X,y = data\n",
    "        #run a forward pass\n",
    "        pred = model(X)\n",
    "        # compute loss and gradients\n",
    "        loss = criterion(pred,y)\n",
    "        loss.backward()\n",
    "        optimizer.step()"
   ]
  }
 ],
 "metadata": {
  "kernelspec": {
   "display_name": "Python 3",
   "language": "python",
   "name": "python3"
  },
  "language_info": {
   "codemirror_mode": {
    "name": "ipython",
    "version": 3
   },
   "file_extension": ".py",
   "mimetype": "text/x-python",
   "name": "python",
   "nbconvert_exporter": "python",
   "pygments_lexer": "ipython3",
   "version": "3.10.11"
  }
 },
 "nbformat": 4,
 "nbformat_minor": 5
}
