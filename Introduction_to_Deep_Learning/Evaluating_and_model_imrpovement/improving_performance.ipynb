{
 "cells": [
  {
   "cell_type": "markdown",
   "id": "a6b9061c",
   "metadata": {},
   "source": [
    "### Steps to maximize Performance\n",
    "1. Overfit the training set\n",
    "2. Reduce overfitting\n",
    "3. Fine-tune the hyperparameters"
   ]
  },
  {
   "cell_type": "code",
   "execution_count": 4,
   "id": "147c02a6",
   "metadata": {},
   "outputs": [],
   "source": [
    "import torch\n",
    "import torch.nn as nn"
   ]
  },
  {
   "cell_type": "code",
   "execution_count": null,
   "id": "22f18df3",
   "metadata": {},
   "outputs": [],
   "source": [
    "# Step 1\n",
    "features, labels = next(iter(dataloader))\n",
    "for i in range(1000):\n",
    "    outputs = model(features)\n",
    "    loss = criterion(outputs, labels)\n",
    "    optimizer.zero_grad()\n",
    "    loss.backward()\n",
    "    optimizer.step()"
   ]
  },
  {
   "cell_type": "code",
   "execution_count": 5,
   "id": "d38bd9bd",
   "metadata": {},
   "outputs": [
    {
     "data": {
      "text/plain": [
       "'\\n1. Weight decay\\n2. Data augmentation\\n3. Dropout\\n4. Reducing model capacity, etc.\\n\\nKeep track of each hyperparameter and validation accuracy.\\n'"
      ]
     },
     "execution_count": 5,
     "metadata": {},
     "output_type": "execute_result"
    }
   ],
   "source": [
    "# Step 2\n",
    "\"\"\"\n",
    "1. Weight decay\n",
    "2. Data augmentation\n",
    "3. Dropout\n",
    "4. Reducing model capacity, etc.\n",
    "\n",
    "Keep track of each hyperparameter and validation accuracy.\n",
    "\"\"\""
   ]
  },
  {
   "cell_type": "code",
   "execution_count": null,
   "id": "0553cb06",
   "metadata": {},
   "outputs": [],
   "source": [
    "# step 3:\n",
    "\n",
    "# Grid search\n",
    "for factor in range(2,6):\n",
    "    lr = 10 ** -factor\n",
    "\n",
    "# Random search\n",
    "factor = np.random.uniform(2,6)\n",
    "lr = 10 ** -factor"
   ]
  }
 ],
 "metadata": {
  "kernelspec": {
   "display_name": "Python 3",
   "language": "python",
   "name": "python3"
  },
  "language_info": {
   "codemirror_mode": {
    "name": "ipython",
    "version": 3
   },
   "file_extension": ".py",
   "mimetype": "text/x-python",
   "name": "python",
   "nbconvert_exporter": "python",
   "pygments_lexer": "ipython3",
   "version": "3.10.11"
  }
 },
 "nbformat": 4,
 "nbformat_minor": 5
}
