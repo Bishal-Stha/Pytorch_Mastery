{
 "cells": [
  {
   "cell_type": "code",
   "execution_count": 2,
   "id": "22635b00",
   "metadata": {},
   "outputs": [],
   "source": [
    "import torch\n",
    "import torch.nn as nn\n",
    "import torch.optim as optim"
   ]
  },
  {
   "cell_type": "code",
   "execution_count": 3,
   "id": "0b4c3f9d",
   "metadata": {},
   "outputs": [],
   "source": [
    "model = nn.Sequential(\n",
    "    nn.Linear(4,2),\n",
    "    nn.Linear(2,1)\n",
    ")"
   ]
  },
  {
   "cell_type": "code",
   "execution_count": 4,
   "id": "5816f9b3",
   "metadata": {},
   "outputs": [],
   "source": [
    "optimizer = optim.SGD(model.parameters(),lr=0.001, momentum=0.95)"
   ]
  },
  {
   "cell_type": "markdown",
   "id": "4fb879c8",
   "metadata": {},
   "source": [
    "Different Learning Rates Different Performance\n",
    "<img src=\"./image.png\" width=400px alt=\"Optimal Learning rate\">\n",
    "<br>\n",
    "<img src=\"./image2.png\" width=400px alt=\"small learning rate\">"
   ]
  },
  {
   "cell_type": "markdown",
   "id": "d42e5136",
   "metadata": {},
   "source": [
    "Impact of Momentum\n",
    "\n",
    "**Without Momentum**\n",
    "<img src=\"./without_momentum.png\" width=400px alt=\"Without Momentum\">\n",
    "<br>"
   ]
  },
  {
   "cell_type": "markdown",
   "id": "620b4218",
   "metadata": {},
   "source": [
    "<!-- <img src=\"./with_momentum.png\" height=400px\" alt=\"With Momentum\"> -->\n",
    "**With Momentum**\n",
    "<img src=\"with_momentum.png\" alt=\"with momentum\" width=400px>\n",
    "<br>"
   ]
  },
  {
   "cell_type": "markdown",
   "id": "adadecfd",
   "metadata": {},
   "source": [
    "<img src=\"summary.png\" width=600px>"
   ]
  }
 ],
 "metadata": {
  "kernelspec": {
   "display_name": "Python 3",
   "language": "python",
   "name": "python3"
  },
  "language_info": {
   "codemirror_mode": {
    "name": "ipython",
    "version": 3
   },
   "file_extension": ".py",
   "mimetype": "text/x-python",
   "name": "python",
   "nbconvert_exporter": "python",
   "pygments_lexer": "ipython3",
   "version": "3.10.11"
  }
 },
 "nbformat": 4,
 "nbformat_minor": 5
}
