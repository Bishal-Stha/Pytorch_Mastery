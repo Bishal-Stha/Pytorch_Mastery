{
 "cells": [
  {
   "cell_type": "code",
   "execution_count": 12,
   "id": "01cfa15c",
   "metadata": {},
   "outputs": [],
   "source": [
    "import torch\n",
    "import torch.nn as nn\n",
    "from torch.nn import CrossEntropyLoss\n",
    "import torch.optim as optim"
   ]
  },
  {
   "cell_type": "code",
   "execution_count": 13,
   "id": "1fc8c559",
   "metadata": {},
   "outputs": [
    {
     "data": {
      "text/plain": [
       "<torch._C.Generator at 0x1934090e9f0>"
      ]
     },
     "execution_count": 13,
     "metadata": {},
     "output_type": "execute_result"
    }
   ],
   "source": [
    "# Set random seed for reproducibility\n",
    "torch.manual_seed(42)"
   ]
  },
  {
   "cell_type": "code",
   "execution_count": 14,
   "id": "cdb3035e",
   "metadata": {},
   "outputs": [],
   "source": [
    "sample = torch.randn(3,16)\n",
    "target = torch.tensor([0,1,1])"
   ]
  },
  {
   "cell_type": "code",
   "execution_count": 15,
   "id": "9a1cfe45",
   "metadata": {},
   "outputs": [],
   "source": [
    "model = nn.Sequential(\n",
    "    nn.Linear(16,8),\n",
    "    nn.Linear(8,4),\n",
    "    nn.Linear(4,2)\n",
    ")\n",
    "\n",
    "prediction = model(sample)"
   ]
  },
  {
   "cell_type": "code",
   "execution_count": 16,
   "id": "0063ce69",
   "metadata": {},
   "outputs": [],
   "source": [
    "# Loss Function and Optimizer\n",
    "criterion = CrossEntropyLoss()\n",
    "optimizer = optim.SGD(model.parameters(), lr=0.001)"
   ]
  },
  {
   "cell_type": "code",
   "execution_count": 17,
   "id": "adcfc31b",
   "metadata": {},
   "outputs": [
    {
     "name": "stdout",
     "output_type": "stream",
     "text": [
      "tensor([[-0.0591, -0.1099, -0.0764,  0.1821, -0.0606,  0.1004,  0.0519,  0.1370,\n",
      "          0.0494,  0.0157,  0.0207,  0.1157, -0.0174,  0.0994, -0.0151, -0.0110],\n",
      "        [-0.0193, -0.0359, -0.0249,  0.0594, -0.0198,  0.0328,  0.0169,  0.0447,\n",
      "          0.0161,  0.0051,  0.0068,  0.0378, -0.0057,  0.0325, -0.0049, -0.0036],\n",
      "        [ 0.0494,  0.0918,  0.0638, -0.1521,  0.0506, -0.0839, -0.0433, -0.1144,\n",
      "         -0.0412, -0.0131, -0.0173, -0.0966,  0.0146, -0.0830,  0.0126,  0.0092],\n",
      "        [ 0.0317,  0.0590,  0.0410, -0.0977,  0.0325, -0.0539, -0.0278, -0.0735,\n",
      "         -0.0265, -0.0084, -0.0111, -0.0621,  0.0094, -0.0533,  0.0081,  0.0059],\n",
      "        [-0.0184, -0.0342, -0.0238,  0.0567, -0.0189,  0.0313,  0.0161,  0.0427,\n",
      "          0.0154,  0.0049,  0.0064,  0.0360, -0.0054,  0.0309, -0.0047, -0.0034],\n",
      "        [-0.0434, -0.0806, -0.0561,  0.1336, -0.0444,  0.0737,  0.0381,  0.1005,\n",
      "          0.0362,  0.0115,  0.0152,  0.0848, -0.0128,  0.0729, -0.0111, -0.0081],\n",
      "        [-0.0308, -0.0572, -0.0398,  0.0948, -0.0316,  0.0523,  0.0270,  0.0714,\n",
      "          0.0257,  0.0082,  0.0108,  0.0602, -0.0091,  0.0518, -0.0079, -0.0057],\n",
      "        [-0.0178, -0.0331, -0.0230,  0.0548, -0.0182,  0.0302,  0.0156,  0.0412,\n",
      "          0.0148,  0.0047,  0.0062,  0.0348, -0.0052,  0.0299, -0.0045, -0.0033]])\n",
      "tensor([ 0.0331,  0.0108, -0.0277, -0.0178,  0.0103,  0.0243,  0.0172,  0.0100])\n",
      "tensor([[ 0.0159, -0.0204, -0.0150, -0.0653, -0.0389, -0.0217, -0.0223, -0.0397],\n",
      "        [ 0.0028, -0.0036, -0.0026, -0.0114, -0.0068, -0.0038, -0.0039, -0.0069],\n",
      "        [-0.0556,  0.0713,  0.0522,  0.2277,  0.1357,  0.0758,  0.0777,  0.1384],\n",
      "        [-0.0259,  0.0332,  0.0243,  0.1061,  0.0632,  0.0353,  0.0362,  0.0645]])\n",
      "tensor([ 0.0216,  0.0038, -0.0754, -0.0351])\n",
      "tensor([[ 0.0617, -0.0257,  0.0573, -0.0965],\n",
      "        [-0.0617,  0.0257, -0.0573,  0.0965]])\n",
      "tensor([ 0.1244, -0.1244])\n"
     ]
    }
   ],
   "source": [
    "\n",
    "# Calculate the loss and gradients\n",
    "\n",
    "loss = criterion(prediction,target)\n",
    "\n",
    "loss.backward()\n",
    "\n",
    "for i in range(3):\n",
    "    print(model[i].weight.grad)\n",
    "    print(model[i].bias.grad)"
   ]
  },
  {
   "cell_type": "code",
   "execution_count": 18,
   "id": "8fe62f76",
   "metadata": {},
   "outputs": [],
   "source": [
    "# === Manual update ===\n",
    "lr = 0.001  # Learning rate"
   ]
  },
  {
   "cell_type": "code",
   "execution_count": 19,
   "id": "5f8fe704",
   "metadata": {},
   "outputs": [],
   "source": [
    "# Update parameters manually for the first layer\n",
    "with torch.no_grad():\n",
    "    model[0].weight -= lr * model[0].weight.grad\n",
    "    model[0].bias   -= lr * model[0].bias.grad"
   ]
  },
  {
   "cell_type": "code",
   "execution_count": 20,
   "id": "0b76d745",
   "metadata": {},
   "outputs": [],
   "source": [
    "# === Using optimizer ===\n",
    "# Re-zero the gradients before next update\n",
    "model.zero_grad()\n",
    "\n",
    "# Forward pass again for optimizer step\n",
    "prediction = model(sample)\n",
    "loss = criterion(prediction, target)\n",
    "loss.backward()"
   ]
  },
  {
   "cell_type": "code",
   "execution_count": 21,
   "id": "2b3b8d4d",
   "metadata": {},
   "outputs": [
    {
     "name": "stdout",
     "output_type": "stream",
     "text": [
      "Parameters updated using optimizer.\n"
     ]
    }
   ],
   "source": [
    "# Create optimizer\n",
    "optimizer = optim.SGD(model.parameters(), lr=0.001)\n",
    "\n",
    "# Perform optimization step\n",
    "optimizer.step()\n",
    "\n",
    "print(\"Parameters updated using optimizer.\")"
   ]
  }
 ],
 "metadata": {
  "kernelspec": {
   "display_name": "Python 3",
   "language": "python",
   "name": "python3"
  },
  "language_info": {
   "codemirror_mode": {
    "name": "ipython",
    "version": 3
   },
   "file_extension": ".py",
   "mimetype": "text/x-python",
   "name": "python",
   "nbconvert_exporter": "python",
   "pygments_lexer": "ipython3",
   "version": "3.10.11"
  }
 },
 "nbformat": 4,
 "nbformat_minor": 5
}
